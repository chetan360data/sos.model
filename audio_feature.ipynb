{
 "cells": [
  {
   "cell_type": "markdown",
   "metadata": {},
   "source": [
    "Libary for feature exraction"
   ]
  },
  {
   "cell_type": "code",
   "execution_count": 1,
   "metadata": {},
   "outputs": [],
   "source": [
    "import librosa\n",
    "import os\n",
    "import numpy as np\n",
    "import matplotlib.pyplot as plt\n",
    "import IPython.display as ipd\n",
    "from tqdm import tqdm "
   ]
  },
  {
   "cell_type": "markdown",
   "metadata": {},
   "source": [
    "feature exration function "
   ]
  },
  {
   "cell_type": "code",
   "execution_count": 2,
   "metadata": {},
   "outputs": [],
   "source": [
    "def plot(mfcc_features,title):\n",
    "    try:\n",
    "        plt.figure(figsize=(10, 4))\n",
    "        librosa.display.specshow(mfcc_features, x_axis='time')\n",
    "        plt.colorbar(format='%+2.0f dB')\n",
    "        plt.title(title)\n",
    "        plt.tight_layout()\n",
    "        plt.show()\n",
    "    except:\n",
    "        print(\"image cant be formed for\",title)"
   ]
  },
  {
   "cell_type": "code",
   "execution_count": 3,
   "metadata": {},
   "outputs": [],
   "source": [
    "#----------------------------------------------------------------------------------------------------#\n",
    "\n",
    "def get_STFT_mfcc(audio_file, sr=22050, n_fft=2048, hop_length=512, n_mfcc=13):\n",
    "    y, sr = librosa.load(audio_file, sr=sr)\n",
    "    D = librosa.stft(y, n_fft=n_fft, hop_length=hop_length)\n",
    "    mfcc = librosa.feature.mfcc(S=np.abs(D), sr=sr, n_mfcc=n_mfcc)\n",
    "    return mfcc\n",
    "\n",
    "#----------------------------------------------------------------------------------------------------#\n",
    "\n",
    "def get_STFT_mfcc2(audio_file, sr=22050, n_fft=2048, hop_length=512, n_mfcc=13):\n",
    "    y, sr = librosa.load(audio_file, sr=sr)\n",
    "    stft = librosa.stft(y, n_fft=n_fft, hop_length=hop_length)\n",
    "    S_db = librosa.amplitude_to_db(np.abs(stft), ref=np.max)\n",
    "    mfcc = librosa.feature.mfcc(S=S_db, sr=sr, n_mfcc=n_mfcc)\n",
    "    return mfcc\n",
    "\n",
    "#------------------------------------------------------------------------------------------------------#\n",
    "\n",
    "def get_STFT_mel(audio_path, n_fft=2048, hop_length=512, n_mels=128, sr=22050):\n",
    "    y, sr = librosa.load(audio_path, sr=sr)\n",
    "    stft = librosa.stft(y, n_fft=n_fft, hop_length=hop_length)\n",
    "    mel = librosa.feature.melspectrogram(S=np.abs(stft), n_mels=n_mels, sr=sr)\n",
    "    mel_power= librosa.power_to_db(mel, ref=np.max)\n",
    "    return mel_power\n",
    "\n",
    "#------------------------------------------------------------------------------------------------------#\n",
    "\n",
    "def get_STFT_me1_mag(audio_file, n_fft=2048, hop_length=512, n_mels=128):\n",
    "    y, sr = librosa.load(audio_file)\n",
    "    Stft = librosa.stft(y, n_fft=n_fft, hop_length=hop_length)\n",
    "    D_magnitude, _ = librosa.magphase(Stft)\n",
    "    mel_filter_bank = librosa.filters.mel(sr=sr, n_fft=n_fft, n_mels=n_mels)\n",
    "    mel_spectrogram = np.dot(mel_filter_bank, D_magnitude)\n",
    "    mel_spect_db = librosa.power_to_db(mel_spectrogram, ref=np.max)\n",
    "    return mel_spect_db\n",
    "\n",
    "#-------------------------------------------------------------------------------------------------------#\n",
    "\n",
    "def get_STFT_melx(audio_path, n_fft=2048, hop_length=512, n_mels=128, sr=22050, normalize=True):\n",
    "    y, sr = librosa.load(audio_path, sr=sr)\n",
    "    stft = np.abs(librosa.stft(y, n_fft=n_fft, hop_length=hop_length))**2#\n",
    "    mel_filter_bank = librosa.filters.mel(sr=sr, n_fft=n_fft, n_mels=n_mels)\n",
    "    mel = np.dot(mel_filter_bank, stft)\n",
    "    mel_db = librosa.power_to_db(mel, ref=np.max)\n",
    "    if normalize:\n",
    "        mel_min = mel_db.min()\n",
    "        mel_max = mel_db.max()\n",
    "        mel_range = mel_max - mel_min\n",
    "        if mel_range == 0:\n",
    "            mel_db_scaled = mel_db  # Avoid division by zero; return original\n",
    "        else:\n",
    "            mel_db_scaled = (mel_db - mel_min) / mel_range\n",
    "            \n",
    "    return mel_db_scaled\n",
    "\n",
    "#---------------------------------------------------------------------------------------------------------#\n",
    "\n",
    "def get_mel(audio_file, n_mels=128, sr=22050):\n",
    "    y, sr = librosa.load(audio_file, sr=sr)\n",
    "    mel_spect = librosa.feature.melspectrogram(y=y,sr=sr,n_mels=n_mels,)\n",
    "    mel_spect_db = librosa.power_to_db(mel_spect, ref=np.max)\n",
    "    return mel_spect_db\n",
    "\n",
    "#----------------------------------------------------------------------------------------------------------#\n",
    "\n",
    "def stft_mel_mfcc(audio_file, n_fft=2048, hop_length=512, n_mels=128, n_mfcc=13):\n",
    "    y, sr = librosa.load(audio_file)\n",
    "    STFT = librosa.stft(y, n_fft=n_fft, hop_length=hop_length)\n",
    "    STFT_magnitude, _ = librosa.magphase(STFT)\n",
    "    mel_filter_bank = librosa.filters.mel(sr=sr, n_fft=n_fft, n_mels=n_mels)\n",
    "    mel_spectrogram = np.dot(mel_filter_bank, STFT_magnitude)\n",
    "    mfcc = librosa.feature.mfcc(S=librosa.power_to_db(mel_spectrogram), n_mfcc=n_mfcc)  \n",
    "    return mfcc\n",
    "\n",
    "#-------------------------------------------------------------------------------------------------------------#\n",
    "\n",
    "def get_stft_power_mel_mfcc(audio_file, n_fft=2048, hop_length=512, n_mels=128, n_mfcc=13):\n",
    "    y, sr = librosa.load(audio_file, sr=None)\n",
    "    D = librosa.stft(y, n_fft=n_fft, hop_length=hop_length)\n",
    "    stft_magnitude = np.abs(D)\n",
    "    mel_spectrogram = librosa.feature.melspectrogram(S=stft_magnitude**2, sr=sr, n_fft=n_fft, hop_length=hop_length, n_mels=n_mels)\n",
    "    mfcc = librosa.feature.mfcc(S=librosa.power_to_db(mel_spectrogram), sr=sr, n_mfcc=n_mfcc)\n",
    "    return  mfcc\n",
    "\n",
    "#---------------------------------------------------------------------------------------------------------------#\n",
    "\n",
    "def mfcc(audio_file, n_mfcc=13):\n",
    "    y, sr = librosa.load(audio_file)\n",
    "    mfcc = librosa.feature.mfcc(y=y, sr=sr, n_mfcc=n_mfcc)\n",
    "    return mfcc\n",
    "\n",
    "#---------------------------------------------------------------------------------------------------------------#\n",
    "\n",
    "def scale_features(features):\n",
    "    return np.mean(features.T, axis=0)\n",
    "\n",
    "#---------------------------------------------------------------------------------------------------------------#\n"
   ]
  },
  {
   "cell_type": "markdown",
   "metadata": {},
   "source": [
    "Displaying"
   ]
  },
  {
   "cell_type": "code",
   "execution_count": 4,
   "metadata": {},
   "outputs": [
    {
     "name": "stderr",
     "output_type": "stream",
     "text": [
      "Processing DataSet: 0file [00:00, ?file/s]\n"
     ]
    },
    {
     "name": "stdout",
     "output_type": "stream",
     "text": [
      "----------------------------------------------------------------------------------\n"
     ]
    },
    {
     "name": "stderr",
     "output_type": "stream",
     "text": [
      "Processing non_scream: 100%|██████████| 1545/1545 [03:26<00:00,  7.50file/s]\n"
     ]
    },
    {
     "name": "stdout",
     "output_type": "stream",
     "text": [
      "----------------------------------------------------------------------------------\n"
     ]
    },
    {
     "name": "stderr",
     "output_type": "stream",
     "text": [
      "Processing scream: 100%|██████████| 1583/1583 [06:23<00:00,  4.13file/s]\n"
     ]
    },
    {
     "name": "stdout",
     "output_type": "stream",
     "text": [
      "----------------------------------------------------------------------------------\n"
     ]
    }
   ],
   "source": [
    "import os\n",
    "import librosa\n",
    "import numpy as np\n",
    "import pandas as pd\n",
    "    \n",
    "def feature_extraction(input_folder):\n",
    "    data = []\n",
    "    for root, _, files in os.walk(input_folder):\n",
    "        class_label = os.path.basename(root)\n",
    "        files.sort()\n",
    "        Error=[]\n",
    "        for file in tqdm(files, desc=f'Processing {class_label}', unit='file'):\n",
    "            audio_file = os.path.join(root, file)\n",
    "            try:\n",
    "                row = {\n",
    "                    \"Filepath\": audio_file,\n",
    "                    \"Class\": class_label,\n",
    "                    \"Duration\": librosa.get_duration(path=audio_file),\n",
    "                    \"STFT_MFCC\": scale_features(get_STFT_mfcc(audio_file)),\n",
    "                    \"STFT_MFCC2\": scale_features(get_STFT_mfcc2(audio_file)),\n",
    "                    \"STFT_Mel\": scale_features(get_STFT_mel(audio_file)),\n",
    "                    \"STFT_Mel1_Mag\": scale_features(get_STFT_me1_mag(audio_file)),\n",
    "                    \"STFT_MelX\": scale_features(get_STFT_melx(audio_file)),\n",
    "                    \"Mel\": scale_features(get_mel(audio_file)),\n",
    "                    \"STFT_Mel_MFCC\": scale_features(stft_mel_mfcc(audio_file)),\n",
    "                    \"STFT_Power_Mel_MFCC\": scale_features(get_stft_power_mel_mfcc(audio_file)),\n",
    "                    }\n",
    "                \n",
    "                data.append(row)\n",
    "            except Exception as e:\n",
    "                Error.append(f\"Error processing {audio_file=}: {e}\")\n",
    "                pass\n",
    "                    \n",
    "        if Error:\n",
    "            print( Er for Er in Error)\n",
    "        print(\"----------------------------------------------------------------------------------\")\n",
    "\n",
    "    df = pd.DataFrame(data)\n",
    "    return df\n",
    "\n",
    "input_folder = \"DataSet\"\n",
    "\n",
    "\n",
    "df = feature_extraction(input_folder)\n",
    "df.to_csv(\"audio_features.csv\", index=False)\n",
    "\n",
    "\n"
   ]
  }
 ],
 "metadata": {
  "kernelspec": {
   "display_name": "test",
   "language": "python",
   "name": "python3"
  },
  "language_info": {
   "codemirror_mode": {
    "name": "ipython",
    "version": 3
   },
   "file_extension": ".py",
   "mimetype": "text/x-python",
   "name": "python",
   "nbconvert_exporter": "python",
   "pygments_lexer": "ipython3",
   "version": "3.12.3"
  }
 },
 "nbformat": 4,
 "nbformat_minor": 2
}
